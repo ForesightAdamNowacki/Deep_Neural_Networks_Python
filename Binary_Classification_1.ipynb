{
 "cells": [
  {
   "cell_type": "markdown",
   "id": "e897da7f-cdf1-4796-a0b4-81ca9c7f7c9f",
   "metadata": {},
   "source": [
    "# 1. Deep Neural Networks Binary Classification Script with Transfer Learning"
   ]
  },
  {
   "cell_type": "markdown",
   "id": "336a1e6c-e0f2-4db3-9e7a-3e2128f8482f",
   "metadata": {},
   "source": [
    "## Environment"
   ]
  },
  {
   "cell_type": "code",
   "execution_count": 19,
   "id": "6fba61bb-217e-4172-8350-07e354c66d11",
   "metadata": {},
   "outputs": [
    {
     "name": "stdout",
     "output_type": "stream",
     "text": [
      "Imported functions:\n",
      "- activate_gpu()\n",
      "- generate_directories()\n",
      "- build_binary_classification_transfer_learning_model()\n",
      "- build_traininig_image_data_generators_flow_from_directory()\n",
      "- build_callbacks()\n",
      "- optimize_model()\n",
      "- visualize_loss_accuracy_binary_classification()\n",
      "- build_evaluation_image_data_generators_flow_from_directory()\n",
      "- evaluate_binary_classification_model()\n",
      "- remove_spare_models()\n",
      "- remove_logs_folder()\n",
      "- remove_history_logger()\n",
      "- comprehensive_binary_classification_evaluation()\n",
      "\n",
      "1 Physical GPUs, 1 Logical GPUs\n"
     ]
    }
   ],
   "source": [
    "# 1. Packages:\n",
    "import tensorflow as tf\n",
    "import os\n",
    "import pandas as pd\n",
    "import numpy as np\n",
    "import warnings\n",
    "import datetime\n",
    "import glob\n",
    "import shutil\n",
    "import matplotlib.pyplot as plt\n",
    "from sklearn import metrics\n",
    "warnings.filterwarnings('ignore')\n",
    "\n",
    "# 2. Import functions:\n",
    "%run Functions.ipynb\n",
    "\n",
    "# 3. Activate GPU:\n",
    "gpu = activate_gpu()\n",
    "\n",
    "# 4. Set working directory:\n",
    "working_directory = r\"D:\\GitHub\\GitHub_Deep_Neural_Networks_Python\"\n",
    "os.chdir(working_directory)\n",
    "\n",
    "# 5. Set dataset directory:\n",
    "dataset_directory = r\"D:\\GitHub\\GitHub_Deep_Neural_Networks_Python\\Datasets\\Cats_And_Dogs\"\n",
    "\n",
    "# 6. Set model name:\n",
    "model_name = \"ResNet50\""
   ]
  },
  {
   "cell_type": "markdown",
   "id": "4920a52f-e5f8-4b98-b94a-f1fc3c8531cb",
   "metadata": {},
   "source": [
    "## Parameters"
   ]
  },
  {
   "cell_type": "code",
   "execution_count": 2,
   "id": "3962d20b-91fa-48d7-a4d7-a18016faad02",
   "metadata": {},
   "outputs": [],
   "source": [
    "parameters = dict(shuffle = True,\n",
    "                  batch_size = 16,\n",
    "                  class_mode = \"binary\",\n",
    "                  monitor = \"val_binary_accuracy\",\n",
    "                  epochs = 10,\n",
    "                  verbose = 1,\n",
    "                  save_best_only = True,\n",
    "                  restore_best_weights = True,\n",
    "                  early_stopping_patience = 5)\n",
    "\n",
    "augmentation_parameters = dict(horizontal_flip = True,\n",
    "                               vertical_flip = True)"
   ]
  },
  {
   "cell_type": "markdown",
   "id": "50c1009a-dc89-4181-be5a-075aef827773",
   "metadata": {},
   "source": [
    "## Directories"
   ]
  },
  {
   "cell_type": "code",
   "execution_count": 3,
   "id": "ab2bf64d-5c32-48b0-9a45-3a3556509782",
   "metadata": {},
   "outputs": [
    {
     "name": "stdout",
     "output_type": "stream",
     "text": [
      "Folder D:\\GitHub\\GitHub_Deep_Neural_Networks_Python\\ResNet50 already exist\n",
      "Folder D:\\GitHub\\GitHub_Deep_Neural_Networks_Python\\ResNet50\\Binary already exist\n"
     ]
    }
   ],
   "source": [
    "directories = generate_directories(model_name = model_name,\n",
    "                                   model_type = \"Binary\",\n",
    "                                   working_directory = working_directory,\n",
    "                                   dataset_directory = dataset_directory)"
   ]
  },
  {
   "cell_type": "markdown",
   "id": "c5913921-4845-44c1-af15-1cb13ace67c6",
   "metadata": {},
   "source": [
    "## Build & Compile Model "
   ]
  },
  {
   "cell_type": "code",
   "execution_count": 4,
   "id": "f07f2c9c-920c-43bd-b5cb-1891cb1af9a6",
   "metadata": {},
   "outputs": [],
   "source": [
    "model = build_binary_classification_transfer_learning_model(model_name = model_name)\n",
    "model.compile(loss = tf.keras.losses.binary_crossentropy,\n",
    "              optimizer = tf.keras.optimizers.Adam(),\n",
    "              metrics = tf.keras.metrics.BinaryAccuracy())"
   ]
  },
  {
   "cell_type": "markdown",
   "id": "8bae6801-3b90-4485-a22c-714f8a00806a",
   "metadata": {},
   "source": [
    "## Build Traininig Image Data Generators"
   ]
  },
  {
   "cell_type": "code",
   "execution_count": 5,
   "id": "195233e8-b4ac-48c3-84ee-c65f3e88b198",
   "metadata": {},
   "outputs": [
    {
     "name": "stdout",
     "output_type": "stream",
     "text": [
      "Augmentation parameters:\n",
      "-> horizontal_flip : True\n",
      "-> vertical_flip : True\n",
      "-> rescale : 0.00392156862745098\n",
      "\n",
      "Found 9000 images belonging to 2 classes.\n",
      "Found 3000 images belonging to 2 classes.\n"
     ]
    }
   ],
   "source": [
    "data_generators = build_traininig_image_data_generators_flow_from_directory(model = model,\n",
    "                                                                            directories = directories,\n",
    "                                                                            parameters = parameters,\n",
    "                                                                            augmentation_parameters = augmentation_parameters)"
   ]
  },
  {
   "cell_type": "markdown",
   "id": "3dd33557-10c3-48b5-933e-e77aa076a814",
   "metadata": {},
   "source": [
    "## Callbacks"
   ]
  },
  {
   "cell_type": "code",
   "execution_count": 6,
   "id": "59b423c3-49c2-4a05-8051-102cf481998b",
   "metadata": {},
   "outputs": [],
   "source": [
    "callbacks = build_callbacks(directories = directories,\n",
    "                            parameters = parameters)"
   ]
  },
  {
   "cell_type": "markdown",
   "id": "2d57c39c-e984-40a0-9714-5ae6f624798c",
   "metadata": {},
   "source": [
    "## Optimize Model"
   ]
  },
  {
   "cell_type": "code",
   "execution_count": 7,
   "id": "ed902375-5a6f-40f7-b113-941946a218ce",
   "metadata": {},
   "outputs": [
    {
     "name": "stdout",
     "output_type": "stream",
     "text": [
      "WARNING:tensorflow:From <ipython-input-1-87d9d46b8e8b>:19: Model.fit_generator (from tensorflow.python.keras.engine.training) is deprecated and will be removed in a future version.\n",
      "Instructions for updating:\n",
      "Please use Model.fit, which supports generators.\n",
      "Epoch 1/10\n",
      "  1/563 [..............................] - ETA: 0s - loss: 0.8954 - binary_accuracy: 0.6250WARNING:tensorflow:From C:\\Users\\admin\\anaconda3\\envs\\GPU_ML_TF\\lib\\site-packages\\tensorflow\\python\\ops\\summary_ops_v2.py:1277: stop (from tensorflow.python.eager.profiler) is deprecated and will be removed after 2020-07-01.\n",
      "Instructions for updating:\n",
      "use `tf.profiler.experimental.stop` instead.\n",
      "  2/563 [..............................] - ETA: 53s - loss: 0.6082 - binary_accuracy: 0.7812WARNING:tensorflow:Callbacks method `on_train_batch_end` is slow compared to the batch time (batch time: 0.0499s vs `on_train_batch_end` time: 0.1386s). Check your callbacks.\n",
      "563/563 [==============================] - ETA: 0s - loss: 0.5274 - binary_accuracy: 0.7620\n",
      "Epoch 00001: val_binary_accuracy improved from -inf to 0.50233, saving model to D:\\GitHub\\GitHub_Deep_Neural_Networks_Python\\ResNet50\\Binary\\keras_model.weights.01-0.5023-0.7195.hdf5\n",
      "563/563 [==============================] - 73s 130ms/step - loss: 0.5274 - binary_accuracy: 0.7620 - val_loss: 0.7195 - val_binary_accuracy: 0.5023\n",
      "Epoch 2/10\n",
      "563/563 [==============================] - ETA: 0s - loss: 0.3684 - binary_accuracy: 0.8424\n",
      "Epoch 00002: val_binary_accuracy improved from 0.50233 to 0.72200, saving model to D:\\GitHub\\GitHub_Deep_Neural_Networks_Python\\ResNet50\\Binary\\keras_model.weights.02-0.7220-0.5810.hdf5\n",
      "563/563 [==============================] - 74s 131ms/step - loss: 0.3684 - binary_accuracy: 0.8424 - val_loss: 0.5810 - val_binary_accuracy: 0.7220\n",
      "Epoch 3/10\n",
      "563/563 [==============================] - ETA: 0s - loss: 0.3047 - binary_accuracy: 0.8713\n",
      "Epoch 00003: val_binary_accuracy did not improve from 0.72200\n",
      "563/563 [==============================] - 72s 129ms/step - loss: 0.3047 - binary_accuracy: 0.8713 - val_loss: 0.7118 - val_binary_accuracy: 0.6570\n",
      "Epoch 4/10\n",
      "563/563 [==============================] - ETA: 0s - loss: 0.2769 - binary_accuracy: 0.8802\n",
      "Epoch 00004: val_binary_accuracy improved from 0.72200 to 0.80833, saving model to D:\\GitHub\\GitHub_Deep_Neural_Networks_Python\\ResNet50\\Binary\\keras_model.weights.04-0.8083-0.4539.hdf5\n",
      "563/563 [==============================] - 73s 130ms/step - loss: 0.2769 - binary_accuracy: 0.8802 - val_loss: 0.4539 - val_binary_accuracy: 0.8083\n",
      "Epoch 5/10\n",
      "563/563 [==============================] - ETA: 0s - loss: 0.2399 - binary_accuracy: 0.9057\n",
      "Epoch 00005: val_binary_accuracy improved from 0.80833 to 0.84167, saving model to D:\\GitHub\\GitHub_Deep_Neural_Networks_Python\\ResNet50\\Binary\\keras_model.weights.05-0.8417-0.4180.hdf5\n",
      "563/563 [==============================] - 75s 133ms/step - loss: 0.2399 - binary_accuracy: 0.9057 - val_loss: 0.4180 - val_binary_accuracy: 0.8417\n",
      "Epoch 6/10\n",
      "563/563 [==============================] - ETA: 0s - loss: 0.2255 - binary_accuracy: 0.9059\n",
      "Epoch 00006: val_binary_accuracy improved from 0.84167 to 0.88600, saving model to D:\\GitHub\\GitHub_Deep_Neural_Networks_Python\\ResNet50\\Binary\\keras_model.weights.06-0.8860-0.2846.hdf5\n",
      "563/563 [==============================] - 74s 131ms/step - loss: 0.2255 - binary_accuracy: 0.9059 - val_loss: 0.2846 - val_binary_accuracy: 0.8860\n",
      "Epoch 7/10\n",
      "563/563 [==============================] - ETA: 0s - loss: 0.2046 - binary_accuracy: 0.9193\n",
      "Epoch 00007: val_binary_accuracy did not improve from 0.88600\n",
      "563/563 [==============================] - 72s 127ms/step - loss: 0.2046 - binary_accuracy: 0.9193 - val_loss: 0.5846 - val_binary_accuracy: 0.7347\n",
      "Epoch 8/10\n",
      "563/563 [==============================] - ETA: 0s - loss: 0.1957 - binary_accuracy: 0.9191\n",
      "Epoch 00008: val_binary_accuracy did not improve from 0.88600\n",
      "563/563 [==============================] - 72s 127ms/step - loss: 0.1957 - binary_accuracy: 0.9191 - val_loss: 0.8272 - val_binary_accuracy: 0.7977\n",
      "Epoch 9/10\n",
      "563/563 [==============================] - ETA: 0s - loss: 0.1835 - binary_accuracy: 0.9244\n",
      "Epoch 00009: val_binary_accuracy did not improve from 0.88600\n",
      "563/563 [==============================] - 72s 127ms/step - loss: 0.1835 - binary_accuracy: 0.9244 - val_loss: 0.3432 - val_binary_accuracy: 0.8597\n",
      "Epoch 10/10\n",
      "563/563 [==============================] - ETA: 0s - loss: 0.1705 - binary_accuracy: 0.9300\n",
      "Epoch 00010: val_binary_accuracy did not improve from 0.88600\n",
      "563/563 [==============================] - 72s 128ms/step - loss: 0.1705 - binary_accuracy: 0.9300 - val_loss: 0.5002 - val_binary_accuracy: 0.8157\n"
     ]
    }
   ],
   "source": [
    "history = optimize_model(model = model,\n",
    "                         data_generators = data_generators,\n",
    "                         parameters = parameters,\n",
    "                         callbacks = callbacks)"
   ]
  },
  {
   "cell_type": "markdown",
   "id": "b143d296-340e-4889-8193-4553649d4a69",
   "metadata": {},
   "source": [
    "## Visualize results"
   ]
  },
  {
   "cell_type": "code",
   "execution_count": 8,
   "id": "363568c7-1044-4a3c-b516-2025c693a77d",
   "metadata": {},
   "outputs": [
    {
     "data": {
      "image/png": "[encoded data removed]",
      "text/plain": [
       "<Figure size 1800x360 with 2 Axes>"
      ]
     },
     "metadata": {
      "needs_background": "light"
     },
     "output_type": "display_data"
    }
   ],
   "source": [
    "visualize_loss_accuracy_binary_classification(history = history)"
   ]
  },
  {
   "cell_type": "markdown",
   "id": "4684a194-020d-48a1-9be5-052ec9ca46dd",
   "metadata": {},
   "source": [
    "## Remove Spare Models"
   ]
  },
  {
   "cell_type": "code",
   "execution_count": 9,
   "id": "b8d68ecd-4d12-4f14-8ff6-421a6c5195c2",
   "metadata": {},
   "outputs": [
    {
     "name": "stdout",
     "output_type": "stream",
     "text": [
      "Remove file: D:\\GitHub\\GitHub_Deep_Neural_Networks_Python\\ResNet50\\Binary\\keras_model.weights.01-0.5023-0.7195.hdf5\n",
      "Remove file: D:\\GitHub\\GitHub_Deep_Neural_Networks_Python\\ResNet50\\Binary\\keras_model.weights.02-0.7220-0.5810.hdf5\n",
      "Remove file: D:\\GitHub\\GitHub_Deep_Neural_Networks_Python\\ResNet50\\Binary\\keras_model.weights.04-0.8083-0.4539.hdf5\n",
      "Remove file: D:\\GitHub\\GitHub_Deep_Neural_Networks_Python\\ResNet50\\Binary\\keras_model.weights.05-0.8417-0.4180.hdf5\n"
     ]
    }
   ],
   "source": [
    "remove_spare_models(directory = directories[\"model_type_directory\"])"
   ]
  },
  {
   "cell_type": "markdown",
   "id": "18b193e7-dedf-48b2-b560-34101e733dfa",
   "metadata": {},
   "source": [
    "## Remove Logs Folder"
   ]
  },
  {
   "cell_type": "code",
   "execution_count": 10,
   "id": "20d5cca8-1cde-4ade-b181-804853cca6de",
   "metadata": {},
   "outputs": [
    {
     "name": "stdout",
     "output_type": "stream",
     "text": [
      "Remove logs folder: D:\\GitHub\\GitHub_Deep_Neural_Networks_Python\\ResNet50\\Binary\\logs\n"
     ]
    }
   ],
   "source": [
    "remove_logs_folder(directory = directories[\"model_type_directory\"])"
   ]
  },
  {
   "cell_type": "markdown",
   "id": "4fa400c9-0df3-4987-aa8a-0a825ef63655",
   "metadata": {},
   "source": [
    "## Remove History Logger "
   ]
  },
  {
   "cell_type": "code",
   "execution_count": 11,
   "id": "899c2fba-2b6f-4319-aa06-49719aa59d0b",
   "metadata": {},
   "outputs": [
    {
     "name": "stdout",
     "output_type": "stream",
     "text": [
      "Remove optimization logger: D:\\GitHub\\GitHub_Deep_Neural_Networks_Python\\ResNet50\\Binary\\03-11-2021 23-43-33_ResNet50_model_optimization_logger.csv\n"
     ]
    }
   ],
   "source": [
    "remove_history_logger(directory = directories[\"model_type_directory\"])"
   ]
  },
  {
   "cell_type": "markdown",
   "id": "01d12fdf-01c0-437e-9781-5799453d16b4",
   "metadata": {},
   "source": [
    "## Upload & Compile Optimal Model"
   ]
  },
  {
   "cell_type": "code",
   "execution_count": 12,
   "id": "2b6daad6-5af2-4060-83ba-18c718a6ab50",
   "metadata": {},
   "outputs": [],
   "source": [
    "tf.keras.backend.clear_session()\n",
    "model = tf.keras.models.load_model(glob.glob(os.path.join(directories[\"model_type_directory\"], \"*.hdf5\"))[-1], compile = False)\n",
    "model.compile(loss = tf.keras.losses.binary_crossentropy,\n",
    "              optimizer = tf.keras.optimizers.Adam(),\n",
    "              metrics = tf.keras.metrics.BinaryAccuracy())      "
   ]
  },
  {
   "cell_type": "markdown",
   "id": "b4f6e2bc-7984-4b74-965b-6f6cd22b40c4",
   "metadata": {},
   "source": [
    "## Build Evaluation Image Data Generators"
   ]
  },
  {
   "cell_type": "code",
   "execution_count": 13,
   "id": "fe4dd40c-c81f-43c7-9ddb-0544868bd6ec",
   "metadata": {},
   "outputs": [
    {
     "name": "stdout",
     "output_type": "stream",
     "text": [
      "Found 9000 images belonging to 2 classes.\n",
      "Found 3000 images belonging to 2 classes.\n",
      "Found 1000 images belonging to 2 classes.\n"
     ]
    }
   ],
   "source": [
    "data_generators = build_evaluation_image_data_generators_flow_from_directory(model = model,\n",
    "                                                                             directories = directories,\n",
    "                                                                             parameters = parameters)"
   ]
  },
  {
   "cell_type": "markdown",
   "id": "f5f40e12-75f9-41e6-bdb5-8dd623de2f67",
   "metadata": {},
   "source": [
    "## Evaluate Generators"
   ]
  },
  {
   "cell_type": "code",
   "execution_count": 14,
   "id": "cb391306-7e57-40ea-92f5-57df8703f251",
   "metadata": {},
   "outputs": [
    {
     "name": "stdout",
     "output_type": "stream",
     "text": [
      "Train generator evaluation\n",
      "WARNING:tensorflow:From <ipython-input-1-0fac0b9302af>:12: Model.evaluate_generator (from tensorflow.python.keras.engine.training) is deprecated and will be removed in a future version.\n",
      "Instructions for updating:\n",
      "Please use Model.evaluate, which supports generators.\n",
      "Validation generator evaluation\n",
      "Test generator evaluation\n"
     ]
    },
    {
     "data": {
      "text/html": [
       "<div>\n",
       "<style scoped>\n",
       "    .dataframe tbody tr th:only-of-type {\n",
       "        vertical-align: middle;\n",
       "    }\n",
       "\n",
       "    .dataframe tbody tr th {\n",
       "        vertical-align: top;\n",
       "    }\n",
       "\n",
       "    .dataframe thead th {\n",
       "        text-align: right;\n",
       "    }\n",
       "</style>\n",
       "<table border=\"1\" class=\"dataframe\">\n",
       "  <thead>\n",
       "    <tr style=\"text-align: right;\">\n",
       "      <th></th>\n",
       "      <th>Train</th>\n",
       "      <th>Validation</th>\n",
       "      <th>Test</th>\n",
       "    </tr>\n",
       "  </thead>\n",
       "  <tbody>\n",
       "    <tr>\n",
       "      <th>Loss</th>\n",
       "      <td>0.237173</td>\n",
       "      <td>0.284579</td>\n",
       "      <td>0.248178</td>\n",
       "    </tr>\n",
       "    <tr>\n",
       "      <th>Accuracy</th>\n",
       "      <td>0.905889</td>\n",
       "      <td>0.886000</td>\n",
       "      <td>0.898000</td>\n",
       "    </tr>\n",
       "  </tbody>\n",
       "</table>\n",
       "</div>"
      ],
      "text/plain": [
       "             Train  Validation      Test\n",
       "Loss      0.237173    0.284579  0.248178\n",
       "Accuracy  0.905889    0.886000  0.898000"
      ]
     },
     "execution_count": 14,
     "metadata": {},
     "output_type": "execute_result"
    }
   ],
   "source": [
    "evaluation = evaluate_binary_classification_model(model = model,\n",
    "                                                  data_generators = data_generators)\n",
    "evaluation"
   ]
  },
  {
   "cell_type": "markdown",
   "id": "7b184aef-8c06-4dfe-8c2e-9a7f64091eb1",
   "metadata": {},
   "source": [
    "## Predict Generators"
   ]
  },
  {
   "cell_type": "code",
   "execution_count": 15,
   "id": "13eb489c-2b05-4fa9-8976-c2552f69a742",
   "metadata": {},
   "outputs": [
    {
     "name": "stdout",
     "output_type": "stream",
     "text": [
      "WARNING:tensorflow:From <ipython-input-1-3777609451d5>:8: Model.predict_generator (from tensorflow.python.keras.engine.training) is deprecated and will be removed in a future version.\n",
      "Instructions for updating:\n",
      "Please use Model.predict, which supports generators.\n",
      "  1/563 [..............................] - ETA: 0sWARNING:tensorflow:Callbacks method `on_predict_batch_end` is slow compared to the batch time (batch time: 0.0050s vs `on_predict_batch_end` time: 0.0295s). Check your callbacks.\n",
      "563/563 [==============================] - 20s 35ms/step\n",
      "  1/188 [..............................] - ETA: 0sWARNING:tensorflow:Callbacks method `on_predict_batch_end` is slow compared to the batch time (batch time: 0.0050s vs `on_predict_batch_end` time: 0.0299s). Check your callbacks.\n",
      "188/188 [==============================] - 7s 35ms/step\n",
      " 1/63 [..............................] - ETA: 0sWARNING:tensorflow:Callbacks method `on_predict_batch_end` is slow compared to the batch time (batch time: 0.0050s vs `on_predict_batch_end` time: 0.0299s). Check your callbacks.\n",
      "63/63 [==============================] - 2s 35ms/step\n"
     ]
    }
   ],
   "source": [
    "train_prediction = predict_generator(model = model, \n",
    "                                     generator = data_generators[\"train_data_generator\"], \n",
    "                                     dataset = \"train\")\n",
    "validation_prediction = predict_generator(model = model, \n",
    "                                          generator = data_generators[\"validation_data_generator\"], \n",
    "                                          dataset = \"validation\")\n",
    "test_prediction = predict_generator(model = model, \n",
    "                                    generator = data_generators[\"test_data_generator\"], \n",
    "                                    dataset = \"test\")"
   ]
  },
  {
   "cell_type": "markdown",
   "id": "92277b57-a3f9-45d1-b733-a62d6c594f06",
   "metadata": {},
   "source": [
    "## Comprehensive Model Evaluation"
   ]
  },
  {
   "cell_type": "code",
   "execution_count": 20,
   "id": "6476de62-557a-4e7f-a932-d88360fe094a",
   "metadata": {
    "tags": []
   },
   "outputs": [
    {
     "data": {
      "text/html": [
       "<div>\n",
       "<style scoped>\n",
       "    .dataframe tbody tr th:only-of-type {\n",
       "        vertical-align: middle;\n",
       "    }\n",
       "\n",
       "    .dataframe tbody tr th {\n",
       "        vertical-align: top;\n",
       "    }\n",
       "\n",
       "    .dataframe thead th {\n",
       "        text-align: right;\n",
       "    }\n",
       "</style>\n",
       "<table border=\"1\" class=\"dataframe\">\n",
       "  <thead>\n",
       "    <tr style=\"text-align: right;\">\n",
       "      <th></th>\n",
       "      <th>accuracy_score</th>\n",
       "      <th>balanced_accuracy_score</th>\n",
       "      <th>precision_score</th>\n",
       "      <th>brier_score_loss</th>\n",
       "      <th>f1_score</th>\n",
       "      <th>log_loss</th>\n",
       "      <th>recall_score</th>\n",
       "      <th>jaccard_score</th>\n",
       "      <th>roc_auc_score</th>\n",
       "      <th>cutoff</th>\n",
       "      <th>dataset</th>\n",
       "    </tr>\n",
       "  </thead>\n",
       "  <tbody>\n",
       "    <tr>\n",
       "      <th>0</th>\n",
       "      <td>0.905889</td>\n",
       "      <td>0.905889</td>\n",
       "      <td>0.878549</td>\n",
       "      <td>0.069861</td>\n",
       "      <td>0.905889</td>\n",
       "      <td>3.250535</td>\n",
       "      <td>0.942000</td>\n",
       "      <td>0.833464</td>\n",
       "      <td>0.970072</td>\n",
       "      <td>0.5</td>\n",
       "      <td>train</td>\n",
       "    </tr>\n",
       "    <tr>\n",
       "      <th>0</th>\n",
       "      <td>0.886000</td>\n",
       "      <td>0.886000</td>\n",
       "      <td>0.859181</td>\n",
       "      <td>0.083119</td>\n",
       "      <td>0.886000</td>\n",
       "      <td>3.937481</td>\n",
       "      <td>0.923333</td>\n",
       "      <td>0.801969</td>\n",
       "      <td>0.957679</td>\n",
       "      <td>0.5</td>\n",
       "      <td>validation</td>\n",
       "    </tr>\n",
       "    <tr>\n",
       "      <th>0</th>\n",
       "      <td>0.898000</td>\n",
       "      <td>0.898000</td>\n",
       "      <td>0.869888</td>\n",
       "      <td>0.076824</td>\n",
       "      <td>0.898000</td>\n",
       "      <td>3.523011</td>\n",
       "      <td>0.936000</td>\n",
       "      <td>0.821053</td>\n",
       "      <td>0.966912</td>\n",
       "      <td>0.5</td>\n",
       "      <td>test</td>\n",
       "    </tr>\n",
       "  </tbody>\n",
       "</table>\n",
       "</div>"
      ],
      "text/plain": [
       "   accuracy_score  balanced_accuracy_score  precision_score  brier_score_loss  \\\n",
       "0        0.905889                 0.905889         0.878549          0.069861   \n",
       "0        0.886000                 0.886000         0.859181          0.083119   \n",
       "0        0.898000                 0.898000         0.869888          0.076824   \n",
       "\n",
       "   f1_score  log_loss  recall_score  jaccard_score  roc_auc_score  cutoff  \\\n",
       "0  0.905889  3.250535      0.942000       0.833464       0.970072     0.5   \n",
       "0  0.886000  3.937481      0.923333       0.801969       0.957679     0.5   \n",
       "0  0.898000  3.523011      0.936000       0.821053       0.966912     0.5   \n",
       "\n",
       "      dataset  \n",
       "0       train  \n",
       "0  validation  \n",
       "0        test  "
      ]
     },
     "execution_count": 20,
     "metadata": {},
     "output_type": "execute_result"
    }
   ],
   "source": [
    "cutoff = 0.5\n",
    "train_comprehensive_evaluation = comprehensive_binary_classification_evaluation(actual = data_generators[\"train_data_generator\"].classes,\n",
    "                                                                                predicted = np.array(train_prediction.iloc[:,0]),\n",
    "                                                                                cutoff = cutoff,\n",
    "                                                                                dataset = \"train\")\n",
    "validation_comprehensive_evaluation = comprehensive_binary_classification_evaluation(actual = data_generators[\"validation_data_generator\"].classes,\n",
    "                                                                                     predicted = np.array(validation_prediction.iloc[:,0]),\n",
    "                                                                                     cutoff = cutoff,\n",
    "                                                                                     dataset = \"validation\")\n",
    "test_comprehensive_evaluation = comprehensive_binary_classification_evaluation(actual = data_generators[\"test_data_generator\"].classes,\n",
    "                                                                               predicted = np.array(test_prediction.iloc[:,0]),\n",
    "                                                                               cutoff = cutoff,\n",
    "                                                                               dataset = \"test\")\n",
    "pd.concat([train_comprehensive_evaluation, validation_comprehensive_evaluation, test_comprehensive_evaluation])"
   ]
  },
  {
   "cell_type": "code",
   "execution_count": null,
   "id": "7104d155-8f76-4cf0-929d-b68108e9400b",
   "metadata": {},
   "outputs": [],
   "source": []
  },
  {
   "cell_type": "code",
   "execution_count": null,
   "id": "62464dde-a3c4-45f5-84de-1a33e0b27cb6",
   "metadata": {},
   "outputs": [],
   "source": []
  },
  {
   "cell_type": "code",
   "execution_count": null,
   "id": "0291997a-eec0-46c6-9452-49282b757fb9",
   "metadata": {},
   "outputs": [],
   "source": []
  }
 ],
 "metadata": {
  "kernelspec": {
   "display_name": "GPU_ML_TF",
   "language": "python",
   "name": "gpu_ml_tf"
  },
  "language_info": {
   "codemirror_mode": {
    "name": "ipython",
    "version": 3
   },
   "file_extension": ".py",
   "mimetype": "text/x-python",
   "name": "python",
   "nbconvert_exporter": "python",
   "pygments_lexer": "ipython3",
   "version": "3.7.10"
  }
 },
 "nbformat": 4,
 "nbformat_minor": 5
}
