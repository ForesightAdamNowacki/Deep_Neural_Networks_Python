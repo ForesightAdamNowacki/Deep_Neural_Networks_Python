{
 "cells": [
  {
   "cell_type": "markdown",
   "id": "e897da7f-cdf1-4796-a0b4-81ca9c7f7c9f",
   "metadata": {},
   "source": [
    "# 1. Deep Neural Networks Binary Classification Script with Transfer Learning"
   ]
  },
  {
   "cell_type": "markdown",
   "id": "336a1e6c-e0f2-4db3-9e7a-3e2128f8482f",
   "metadata": {},
   "source": [
    "## Environment"
   ]
  },
  {
   "cell_type": "code",
   "execution_count": 1,
   "id": "6fba61bb-217e-4172-8350-07e354c66d11",
   "metadata": {},
   "outputs": [
    {
     "name": "stdout",
     "output_type": "stream",
     "text": [
      "Imported functions:\n",
      "- activate_gpu()\n",
      "- generate_directories()\n",
      "- build_binary_classification_transfer_learning_model()\n",
      "- build_train_image_data_generators_flow_from_directory()\n",
      "- build_callbacks()\n",
      "- optimize_model()\n",
      "- visualize_loss_accuracy_binary_classification()\n",
      "- build_evaluate_image_data_generators_flow_from_directory()\n",
      "- evaluate_binary_classification_model()\n",
      "\n",
      "1 Physical GPUs, 1 Logical GPUs\n"
     ]
    }
   ],
   "source": [
    "# 1. Packages:\n",
    "import tensorflow as tf\n",
    "import os\n",
    "import pandas as pd\n",
    "import numpy as np\n",
    "import warnings\n",
    "import datetime\n",
    "import matplotlib.pyplot as plt\n",
    "warnings.filterwarnings('ignore')\n",
    "\n",
    "# 2. Import functions:\n",
    "%run Functions.ipynb\n",
    "\n",
    "# 3. Activate GPU:\n",
    "gpu = activate_gpu()\n",
    "\n",
    "# 4. Set working directory:\n",
    "working_directory = r\"D:\\GitHub\\GitHub_Deep_Neural_Networks_Python\"\n",
    "os.chdir(working_directory)\n",
    "\n",
    "# 5. Set dataset directory:\n",
    "dataset_directory = r\"D:\\GitHub\\GitHub_Deep_Neural_Networks_Python\\Datasets\\Cats_And_Dogs\"\n",
    "\n",
    "# 6. Set model name:\n",
    "model_name = \"ResNet50\""
   ]
  },
  {
   "cell_type": "markdown",
   "id": "4920a52f-e5f8-4b98-b94a-f1fc3c8531cb",
   "metadata": {},
   "source": [
    "## Parameters:"
   ]
  },
  {
   "cell_type": "code",
   "execution_count": 2,
   "id": "3962d20b-91fa-48d7-a4d7-a18016faad02",
   "metadata": {},
   "outputs": [],
   "source": [
    "parameters = dict(shuffle = True,\n",
    "                  batch_size = 16,\n",
    "                  class_mode = \"binary\",\n",
    "                  monitor = \"val_binary_accuracy\",\n",
    "                  epochs = 10,\n",
    "                  verbose = 1,\n",
    "                  save_best_only = True,\n",
    "                  restore_best_weights = True,\n",
    "                  early_stopping_patience = 5)\n",
    "\n",
    "augmentation_parameters = dict(horizontal_flip = True,\n",
    "                               vertical_flip = True)"
   ]
  },
  {
   "cell_type": "markdown",
   "id": "50c1009a-dc89-4181-be5a-075aef827773",
   "metadata": {},
   "source": [
    "## Directories:"
   ]
  },
  {
   "cell_type": "code",
   "execution_count": 3,
   "id": "ab2bf64d-5c32-48b0-9a45-3a3556509782",
   "metadata": {},
   "outputs": [
    {
     "name": "stdout",
     "output_type": "stream",
     "text": [
      "Folder D:\\GitHub\\GitHub_Deep_Neural_Networks_Python\\ResNet50 already exist\n",
      "Folder D:\\GitHub\\GitHub_Deep_Neural_Networks_Python\\ResNet50\\Binary already exist\n"
     ]
    }
   ],
   "source": [
    "directories = generate_directories(model_name = model_name,\n",
    "                                   model_type = \"Binary\",\n",
    "                                   working_directory = working_directory,\n",
    "                                   dataset_directory = dataset_directory)"
   ]
  },
  {
   "cell_type": "markdown",
   "id": "c5913921-4845-44c1-af15-1cb13ace67c6",
   "metadata": {},
   "source": [
    "## Build & Compile Model using Transfer Learning:"
   ]
  },
  {
   "cell_type": "code",
   "execution_count": 4,
   "id": "f07f2c9c-920c-43bd-b5cb-1891cb1af9a6",
   "metadata": {},
   "outputs": [],
   "source": [
    "model = build_binary_classification_transfer_learning_model(model_name = model_name)\n",
    "model.compile(loss = tf.keras.losses.binary_crossentropy,\n",
    "              optimizer = tf.keras.optimizers.Adam(),\n",
    "              metrics = tf.keras.metrics.BinaryAccuracy()) # [\"accuracy\"]"
   ]
  },
  {
   "cell_type": "markdown",
   "id": "8bae6801-3b90-4485-a22c-714f8a00806a",
   "metadata": {},
   "source": [
    "## Build Train Image Data Generators:"
   ]
  },
  {
   "cell_type": "code",
   "execution_count": 5,
   "id": "195233e8-b4ac-48c3-84ee-c65f3e88b198",
   "metadata": {},
   "outputs": [
    {
     "name": "stdout",
     "output_type": "stream",
     "text": [
      "Augmentation parameters:\n",
      "-> horizontal_flip : True\n",
      "-> vertical_flip : True\n",
      "-> rescale : 0.00392156862745098\n",
      "\n",
      "Found 9000 images belonging to 2 classes.\n",
      "Found 3000 images belonging to 2 classes.\n"
     ]
    }
   ],
   "source": [
    "train_data_generators = build_train_image_data_generators_flow_from_directory(model = model,\n",
    "                                                                              directories = directories,\n",
    "                                                                              parameters = parameters,\n",
    "                                                                              augmentation_parameters = augmentation_parameters)"
   ]
  },
  {
   "cell_type": "markdown",
   "id": "3dd33557-10c3-48b5-933e-e77aa076a814",
   "metadata": {},
   "source": [
    "## Callbacks:"
   ]
  },
  {
   "cell_type": "code",
   "execution_count": 6,
   "id": "59b423c3-49c2-4a05-8051-102cf481998b",
   "metadata": {},
   "outputs": [],
   "source": [
    "callbacks = build_callbacks(directories = directories,\n",
    "                            parameters = parameters)"
   ]
  },
  {
   "cell_type": "markdown",
   "id": "2d57c39c-e984-40a0-9714-5ae6f624798c",
   "metadata": {},
   "source": [
    "## Optimize Model:"
   ]
  },
  {
   "cell_type": "code",
   "execution_count": 7,
   "id": "ed902375-5a6f-40f7-b113-941946a218ce",
   "metadata": {},
   "outputs": [
    {
     "name": "stdout",
     "output_type": "stream",
     "text": [
      "WARNING:tensorflow:From <ipython-input-1-3c4e33c92086>:19: Model.fit_generator (from tensorflow.python.keras.engine.training) is deprecated and will be removed in a future version.\n",
      "Instructions for updating:\n",
      "Please use Model.fit, which supports generators.\n",
      "Epoch 1/10\n",
      "  1/563 [..............................] - ETA: 0s - loss: 0.8659 - binary_accuracy: 0.5625WARNING:tensorflow:From C:\\Users\\admin\\anaconda3\\envs\\GPU_ML_TF\\lib\\site-packages\\tensorflow\\python\\ops\\summary_ops_v2.py:1277: stop (from tensorflow.python.eager.profiler) is deprecated and will be removed after 2020-07-01.\n",
      "Instructions for updating:\n",
      "use `tf.profiler.experimental.stop` instead.\n",
      "  2/563 [..............................] - ETA: 54s - loss: 0.7517 - binary_accuracy: 0.5938WARNING:tensorflow:Callbacks method `on_train_batch_end` is slow compared to the batch time (batch time: 0.0489s vs `on_train_batch_end` time: 0.1446s). Check your callbacks.\n",
      "563/563 [==============================] - ETA: 0s - loss: 0.4943 - binary_accuracy: 0.7793\n",
      "Epoch 00001: val_binary_accuracy improved from -inf to 0.50067, saving model to D:\\GitHub\\GitHub_Deep_Neural_Networks_Python\\ResNet50\\Binary\\keras_model.weights.01-0.5007-0.7136.hdf5\n",
      "563/563 [==============================] - 74s 132ms/step - loss: 0.4943 - binary_accuracy: 0.7793 - val_loss: 0.7136 - val_binary_accuracy: 0.5007\n",
      "Epoch 2/10\n",
      "563/563 [==============================] - ETA: 0s - loss: 0.3013 - binary_accuracy: 0.8709\n",
      "Epoch 00002: val_binary_accuracy improved from 0.50067 to 0.74333, saving model to D:\\GitHub\\GitHub_Deep_Neural_Networks_Python\\ResNet50\\Binary\\keras_model.weights.02-0.7433-0.5015.hdf5\n",
      "563/563 [==============================] - 73s 130ms/step - loss: 0.3013 - binary_accuracy: 0.8709 - val_loss: 0.5015 - val_binary_accuracy: 0.7433\n",
      "Epoch 3/10\n",
      "563/563 [==============================] - ETA: 0s - loss: 0.2807 - binary_accuracy: 0.8851\n",
      "Epoch 00003: val_binary_accuracy improved from 0.74333 to 0.83000, saving model to D:\\GitHub\\GitHub_Deep_Neural_Networks_Python\\ResNet50\\Binary\\keras_model.weights.03-0.8300-0.3703.hdf5\n",
      "563/563 [==============================] - 74s 131ms/step - loss: 0.2807 - binary_accuracy: 0.8851 - val_loss: 0.3703 - val_binary_accuracy: 0.8300\n",
      "Epoch 4/10\n",
      "563/563 [==============================] - ETA: 0s - loss: 0.2377 - binary_accuracy: 0.8962\n",
      "Epoch 00004: val_binary_accuracy did not improve from 0.83000\n",
      "563/563 [==============================] - 73s 130ms/step - loss: 0.2377 - binary_accuracy: 0.8962 - val_loss: 0.4115 - val_binary_accuracy: 0.8163\n",
      "Epoch 5/10\n",
      "563/563 [==============================] - ETA: 0s - loss: 0.2290 - binary_accuracy: 0.9044\n",
      "Epoch 00005: val_binary_accuracy did not improve from 0.83000\n",
      "563/563 [==============================] - 73s 130ms/step - loss: 0.2290 - binary_accuracy: 0.9044 - val_loss: 1.1223 - val_binary_accuracy: 0.6083\n",
      "Epoch 6/10\n",
      "563/563 [==============================] - ETA: 0s - loss: 0.2089 - binary_accuracy: 0.9134\n",
      "Epoch 00006: val_binary_accuracy improved from 0.83000 to 0.88967, saving model to D:\\GitHub\\GitHub_Deep_Neural_Networks_Python\\ResNet50\\Binary\\keras_model.weights.06-0.8897-0.2568.hdf5\n",
      "563/563 [==============================] - 74s 132ms/step - loss: 0.2089 - binary_accuracy: 0.9134 - val_loss: 0.2568 - val_binary_accuracy: 0.8897\n",
      "Epoch 7/10\n",
      "563/563 [==============================] - ETA: 0s - loss: 0.2026 - binary_accuracy: 0.9154\n",
      "Epoch 00007: val_binary_accuracy did not improve from 0.88967\n",
      "563/563 [==============================] - 73s 130ms/step - loss: 0.2026 - binary_accuracy: 0.9154 - val_loss: 0.3728 - val_binary_accuracy: 0.8280\n",
      "Epoch 8/10\n",
      "563/563 [==============================] - ETA: 0s - loss: 0.2020 - binary_accuracy: 0.9164\n",
      "Epoch 00008: val_binary_accuracy improved from 0.88967 to 0.89333, saving model to D:\\GitHub\\GitHub_Deep_Neural_Networks_Python\\ResNet50\\Binary\\keras_model.weights.08-0.8933-0.2752.hdf5\n",
      "563/563 [==============================] - 73s 129ms/step - loss: 0.2020 - binary_accuracy: 0.9164 - val_loss: 0.2752 - val_binary_accuracy: 0.8933\n",
      "Epoch 9/10\n",
      "563/563 [==============================] - ETA: 0s - loss: 0.1816 - binary_accuracy: 0.9287\n",
      "Epoch 00009: val_binary_accuracy did not improve from 0.89333\n",
      "563/563 [==============================] - 72s 129ms/step - loss: 0.1816 - binary_accuracy: 0.9287 - val_loss: 1.3755 - val_binary_accuracy: 0.6073\n",
      "Epoch 10/10\n",
      "563/563 [==============================] - ETA: 0s - loss: 0.1592 - binary_accuracy: 0.9356\n",
      "Epoch 00010: val_binary_accuracy did not improve from 0.89333\n",
      "563/563 [==============================] - 73s 129ms/step - loss: 0.1592 - binary_accuracy: 0.9356 - val_loss: 0.5344 - val_binary_accuracy: 0.7607\n"
     ]
    }
   ],
   "source": [
    "history = optimize_model(model = model,\n",
    "                         train_data_generators = train_data_generators,\n",
    "                         parameters = parameters,\n",
    "                         callbacks = callbacks)"
   ]
  },
  {
   "cell_type": "markdown",
   "id": "b143d296-340e-4889-8193-4553649d4a69",
   "metadata": {},
   "source": [
    "## Visualize results:"
   ]
  },
  {
   "cell_type": "code",
   "execution_count": 8,
   "id": "363568c7-1044-4a3c-b516-2025c693a77d",
   "metadata": {},
   "outputs": [
    {
     "data": {
      "image/png": "[encoded data removed]",
      "text/plain": [
       "<Figure size 1800x360 with 2 Axes>"
      ]
     },
     "metadata": {
      "needs_background": "light"
     },
     "output_type": "display_data"
    }
   ],
   "source": [
    "visualize_loss_accuracy_binary_classification(history = history)"
   ]
  },
  {
   "cell_type": "markdown",
   "id": "b4f6e2bc-7984-4b74-965b-6f6cd22b40c4",
   "metadata": {},
   "source": [
    "## Build Evaluation Image Data Generators:"
   ]
  },
  {
   "cell_type": "code",
   "execution_count": 9,
   "id": "fe4dd40c-c81f-43c7-9ddb-0544868bd6ec",
   "metadata": {},
   "outputs": [
    {
     "name": "stdout",
     "output_type": "stream",
     "text": [
      "Found 9000 images belonging to 2 classes.\n",
      "Found 3000 images belonging to 2 classes.\n",
      "Found 1000 images belonging to 2 classes.\n"
     ]
    }
   ],
   "source": [
    "evaluate_data_generators = build_evaluate_image_data_generators_flow_from_directory(model = model,\n",
    "                                                                                    directories = directories,\n",
    "                                                                                    parameters = parameters)"
   ]
  },
  {
   "cell_type": "markdown",
   "id": "f5f40e12-75f9-41e6-bdb5-8dd623de2f67",
   "metadata": {},
   "source": [
    "## Evaluate Image Data Generators:"
   ]
  },
  {
   "cell_type": "code",
   "execution_count": 10,
   "id": "cb391306-7e57-40ea-92f5-57df8703f251",
   "metadata": {},
   "outputs": [
    {
     "name": "stdout",
     "output_type": "stream",
     "text": [
      "Train generator evaluation\n",
      "WARNING:tensorflow:From <ipython-input-1-d15be0e72859>:12: Model.evaluate_generator (from tensorflow.python.keras.engine.training) is deprecated and will be removed in a future version.\n",
      "Instructions for updating:\n",
      "Please use Model.evaluate, which supports generators.\n",
      "Validation generator evaluation\n",
      "Test generator evaluation\n"
     ]
    }
   ],
   "source": [
    "evaluation = evaluate_binary_classification_model(model = model,\n",
    "                                                  evaluate_data_generators = evaluate_data_generators)"
   ]
  },
  {
   "cell_type": "code",
   "execution_count": 11,
   "id": "27406922-3e87-4702-9643-35d034995454",
   "metadata": {},
   "outputs": [
    {
     "data": {
      "text/html": [
       "<div>\n",
       "<style scoped>\n",
       "    .dataframe tbody tr th:only-of-type {\n",
       "        vertical-align: middle;\n",
       "    }\n",
       "\n",
       "    .dataframe tbody tr th {\n",
       "        vertical-align: top;\n",
       "    }\n",
       "\n",
       "    .dataframe thead th {\n",
       "        text-align: right;\n",
       "    }\n",
       "</style>\n",
       "<table border=\"1\" class=\"dataframe\">\n",
       "  <thead>\n",
       "    <tr style=\"text-align: right;\">\n",
       "      <th></th>\n",
       "      <th>Train</th>\n",
       "      <th>Validation</th>\n",
       "      <th>Test</th>\n",
       "    </tr>\n",
       "  </thead>\n",
       "  <tbody>\n",
       "    <tr>\n",
       "      <th>Loss</th>\n",
       "      <td>0.506451</td>\n",
       "      <td>0.534421</td>\n",
       "      <td>0.518282</td>\n",
       "    </tr>\n",
       "    <tr>\n",
       "      <th>Accuracy</th>\n",
       "      <td>0.771222</td>\n",
       "      <td>0.760667</td>\n",
       "      <td>0.764000</td>\n",
       "    </tr>\n",
       "  </tbody>\n",
       "</table>\n",
       "</div>"
      ],
      "text/plain": [
       "             Train  Validation      Test\n",
       "Loss      0.506451    0.534421  0.518282\n",
       "Accuracy  0.771222    0.760667  0.764000"
      ]
     },
     "execution_count": 11,
     "metadata": {},
     "output_type": "execute_result"
    }
   ],
   "source": [
    "evaluation"
   ]
  }
 ],
 "metadata": {
  "kernelspec": {
   "display_name": "GPU_ML_TF",
   "language": "python",
   "name": "gpu_ml_tf"
  },
  "language_info": {
   "codemirror_mode": {
    "name": "ipython",
    "version": 3
   },
   "file_extension": ".py",
   "mimetype": "text/x-python",
   "name": "python",
   "nbconvert_exporter": "python",
   "pygments_lexer": "ipython3",
   "version": "3.7.10"
  }
 },
 "nbformat": 4,
 "nbformat_minor": 5
}
